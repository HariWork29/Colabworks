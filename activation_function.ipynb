{
  "nbformat": 4,
  "nbformat_minor": 0,
  "metadata": {
    "colab": {
      "provenance": [],
      "authorship_tag": "ABX9TyNEPjO0sXvarrFNJJGE3IBC",
      "include_colab_link": true
    },
    "kernelspec": {
      "name": "python3",
      "display_name": "Python 3"
    },
    "language_info": {
      "name": "python"
    }
  },
  "cells": [
    {
      "cell_type": "markdown",
      "metadata": {
        "id": "view-in-github",
        "colab_type": "text"
      },
      "source": [
        "<a href=\"https://colab.research.google.com/github/HariWork29/Colabworks/blob/main/activation_function.ipynb\" target=\"_parent\"><img src=\"https://colab.research.google.com/assets/colab-badge.svg\" alt=\"Open In Colab\"/></a>"
      ]
    },
    {
      "cell_type": "markdown",
      "source": [
        "# Activation Function\n",
        "\n",
        "Here, we are going to see that how the activation function are working with sample values.\n",
        "\n",
        "01. Step function\n",
        "02. Sigmoid function / Logit function\n",
        "03. tanh function\n",
        "04. ReLU function\n",
        "05. Leaky ReLU function\n"
      ],
      "metadata": {
        "id": "dl5Kw0WuP8-k"
      }
    },
    {
      "cell_type": "markdown",
      "source": [
        "# Sigmoid function"
      ],
      "metadata": {
        "id": "gdCQ8IgLQd3z"
      }
    },
    {
      "cell_type": "code",
      "execution_count": 1,
      "metadata": {
        "colab": {
          "base_uri": "https://localhost:8080/"
        },
        "id": "9LGuZ1D-P0YF",
        "outputId": "5edc4ecc-5bad-4741-befa-11898d408bce"
      },
      "outputs": [
        {
          "output_type": "execute_result",
          "data": {
            "text/plain": [
              "1.0"
            ]
          },
          "metadata": {},
          "execution_count": 1
        }
      ],
      "source": [
        "import math\n",
        "\n",
        "def sigmoid(x):\n",
        "  val = 1 / (1 + math.exp(-x))\n",
        "  return val\n",
        "\n",
        "# for the positive values, sigmoid function gives the value range between 0 to 1\n",
        "sigmoid(100)"
      ]
    },
    {
      "cell_type": "code",
      "source": [
        "# for the zero, sigmoid function gives the 0.5 value\n",
        "sigmoid(0)"
      ],
      "metadata": {
        "colab": {
          "base_uri": "https://localhost:8080/"
        },
        "id": "fuZV1CNgQ1gL",
        "outputId": "fd58712e-0765-4862-e21c-3c1d7025e01d"
      },
      "execution_count": 17,
      "outputs": [
        {
          "output_type": "execute_result",
          "data": {
            "text/plain": [
              "0.5"
            ]
          },
          "metadata": {},
          "execution_count": 17
        }
      ]
    },
    {
      "cell_type": "code",
      "source": [
        "# for the negative values, sigmoid function gives the value range from 0 to 1\n",
        "# which will not give negative output for negative inputs\n",
        "sigmoid(-10)"
      ],
      "metadata": {
        "colab": {
          "base_uri": "https://localhost:8080/"
        },
        "id": "lSrAN5ZDTOre",
        "outputId": "82be5819-d037-408d-f3ee-d4479c0bc326"
      },
      "execution_count": 18,
      "outputs": [
        {
          "output_type": "execute_result",
          "data": {
            "text/plain": [
              "4.5397868702434395e-05"
            ]
          },
          "metadata": {},
          "execution_count": 18
        }
      ]
    },
    {
      "cell_type": "markdown",
      "source": [
        "# tanh function"
      ],
      "metadata": {
        "id": "qC1uVMtUQ8KK"
      }
    },
    {
      "cell_type": "code",
      "source": [
        "def tanh(x):\n",
        "  val = (math.exp(x) - math.exp(-x)) / (math.exp(x) + math.exp(-x))\n",
        "  return val\n",
        "\n",
        "# for the negative values, tanh gives (-1) value\n",
        "tanh(-50)"
      ],
      "metadata": {
        "colab": {
          "base_uri": "https://localhost:8080/"
        },
        "id": "tc-v3m36Q_t2",
        "outputId": "d41484ef-6823-4b84-dfdc-0c2d399dbc12"
      },
      "execution_count": 9,
      "outputs": [
        {
          "output_type": "execute_result",
          "data": {
            "text/plain": [
              "-1.0"
            ]
          },
          "metadata": {},
          "execution_count": 9
        }
      ]
    },
    {
      "cell_type": "code",
      "source": [
        "# for the positive values, tanh gives (1) value\n",
        "tanh(50)"
      ],
      "metadata": {
        "colab": {
          "base_uri": "https://localhost:8080/"
        },
        "id": "m-8HlHCnRThQ",
        "outputId": "c4f3ffd8-0816-46e4-d23d-038fa97bea2d"
      },
      "execution_count": 10,
      "outputs": [
        {
          "output_type": "execute_result",
          "data": {
            "text/plain": [
              "1.0"
            ]
          },
          "metadata": {},
          "execution_count": 10
        }
      ]
    },
    {
      "cell_type": "code",
      "source": [
        "# for the values, tanh function gives the output values in between the range from -1 to 1\n",
        "tanh(0.5)"
      ],
      "metadata": {
        "colab": {
          "base_uri": "https://localhost:8080/"
        },
        "id": "-JpVVFysRf2c",
        "outputId": "758d26e2-55b1-4256-fe83-d931d20a2a83"
      },
      "execution_count": 12,
      "outputs": [
        {
          "output_type": "execute_result",
          "data": {
            "text/plain": [
              "0.4621171572600098"
            ]
          },
          "metadata": {},
          "execution_count": 12
        }
      ]
    },
    {
      "cell_type": "markdown",
      "source": [
        "# ReLU function"
      ],
      "metadata": {
        "id": "4vdyfM5yRk0_"
      }
    },
    {
      "cell_type": "code",
      "source": [
        "def ReLU(x):\n",
        "  val = max(0, x)\n",
        "  return val\n",
        "\n",
        "# for negative values, ReLU gives the zero output\n",
        "ReLU(-10)"
      ],
      "metadata": {
        "colab": {
          "base_uri": "https://localhost:8080/"
        },
        "id": "Cws7B52FRnTB",
        "outputId": "82dcaade-5629-40ad-8461-a68716f3c166"
      },
      "execution_count": 13,
      "outputs": [
        {
          "output_type": "execute_result",
          "data": {
            "text/plain": [
              "0"
            ]
          },
          "metadata": {},
          "execution_count": 13
        }
      ]
    },
    {
      "cell_type": "code",
      "source": [
        "# for positive values, ReLU gives that input value as output\n",
        "ReLU(0.5)"
      ],
      "metadata": {
        "colab": {
          "base_uri": "https://localhost:8080/"
        },
        "id": "8zQAcHJyR0gQ",
        "outputId": "222a6130-4cd1-4457-d3a5-b189611c0462"
      },
      "execution_count": 14,
      "outputs": [
        {
          "output_type": "execute_result",
          "data": {
            "text/plain": [
              "0.5"
            ]
          },
          "metadata": {},
          "execution_count": 14
        }
      ]
    },
    {
      "cell_type": "code",
      "source": [
        "# for positive values, ReLU gives that input value as output\n",
        "ReLU(10)"
      ],
      "metadata": {
        "colab": {
          "base_uri": "https://localhost:8080/"
        },
        "id": "n6zAmHz7R313",
        "outputId": "dda5af15-0428-4dc0-9e7c-8921a1b5099d"
      },
      "execution_count": 15,
      "outputs": [
        {
          "output_type": "execute_result",
          "data": {
            "text/plain": [
              "10"
            ]
          },
          "metadata": {},
          "execution_count": 15
        }
      ]
    },
    {
      "cell_type": "markdown",
      "source": [
        "# Leaky ReLU function"
      ],
      "metadata": {
        "id": "ufTPiYJyUQ1j"
      }
    },
    {
      "cell_type": "code",
      "source": [
        "def leaky_ReLU(x):\n",
        "  val = max(0.1*x, x)\n",
        "  return val\n",
        "\n",
        "# for the neagtive values, function will give the small amount of slope value\n",
        "leaky_ReLU(-100)"
      ],
      "metadata": {
        "colab": {
          "base_uri": "https://localhost:8080/"
        },
        "id": "ti65OWznUUBT",
        "outputId": "673c7c60-706c-4acd-b8da-2128e062ad88"
      },
      "execution_count": 20,
      "outputs": [
        {
          "output_type": "execute_result",
          "data": {
            "text/plain": [
              "-10.0"
            ]
          },
          "metadata": {},
          "execution_count": 20
        }
      ]
    },
    {
      "cell_type": "code",
      "source": [
        "# for the all positive values, function will give the same value as output\n",
        "leaky_ReLU(10)"
      ],
      "metadata": {
        "colab": {
          "base_uri": "https://localhost:8080/"
        },
        "id": "rNIdM80pUoGg",
        "outputId": "2c2e057c-8e66-4193-98c5-7b2d6c52759d"
      },
      "execution_count": 21,
      "outputs": [
        {
          "output_type": "execute_result",
          "data": {
            "text/plain": [
              "10"
            ]
          },
          "metadata": {},
          "execution_count": 21
        }
      ]
    },
    {
      "cell_type": "code",
      "source": [
        "# for the zero input, function will give the zero as output\n",
        "leaky_ReLU(0)"
      ],
      "metadata": {
        "colab": {
          "base_uri": "https://localhost:8080/"
        },
        "id": "KBolcJB5U8Ka",
        "outputId": "ec3213fa-f0ef-4ac1-b552-89981b9a38d0"
      },
      "execution_count": 23,
      "outputs": [
        {
          "output_type": "execute_result",
          "data": {
            "text/plain": [
              "0.0"
            ]
          },
          "metadata": {},
          "execution_count": 23
        }
      ]
    }
  ]
}